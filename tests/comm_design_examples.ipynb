{
 "cells": [
  {
   "cell_type": "markdown",
   "metadata": {},
   "source": [
    "# NOTE: \n",
    "\n",
    "### This notebook may be out of date. Please look at commissioning_design_example_all_skies.ipynb or commissioning_design_example_spectrophotometric_standards.ipynb for a more up-to-date example"
   ]
  },
  {
   "cell_type": "markdown",
   "metadata": {},
   "source": [
    "# Commisioning Design Example - All Skies"
   ]
  },
  {
   "cell_type": "markdown",
   "metadata": {},
   "source": [
    "In this example notebook, we will be showing how to build an all sky design (as may be done during commisioning) using Mugatu.\n",
    "\n",
    "Below, we will import the desired packages and connect to targetdb."
   ]
  },
  {
   "cell_type": "code",
   "execution_count": 1,
   "metadata": {},
   "outputs": [
    {
     "data": {
      "text/plain": [
       "True"
      ]
     },
     "execution_count": 1,
     "metadata": {},
     "output_type": "execute_result"
    }
   ],
   "source": [
    "from sdssdb.peewee.sdss5db import targetdb\n",
    "import os\n",
    "import roboscheduler.cadence as cadence\n",
    "from mugatu.comm_designs import all_sky_design_RS\n",
    "\n",
    "\n",
    "targetdb.database.connect_from_parameters(user='sdss',\n",
    "                                          host='localhost',\n",
    "                                          port=7500)"
   ]
  },
  {
   "cell_type": "markdown",
   "metadata": {},
   "source": [
    "Next, we have to add the cadences using roboscheduler. For this example I am loading an old list of cadences from robostrategy:"
   ]
  },
  {
   "cell_type": "code",
   "execution_count": 2,
   "metadata": {},
   "outputs": [],
   "source": [
    "cadence.CadenceList().fromfits(filename='rsCadences-test-newfield-apo.fits')"
   ]
  },
  {
   "cell_type": "markdown",
   "metadata": {},
   "source": [
    "Now we can create a design of all skies."
   ]
  },
  {
   "cell_type": "code",
   "execution_count": 3,
   "metadata": {},
   "outputs": [
    {
     "name": "stderr",
     "output_type": "stream",
     "text": [
      "\u001b[1;33m[WARNING]: \u001b[0m\u001b[0;39mWarning! Wavelengths not supplied, defaulting to 6231 angstrom\u001b[0m \u001b[0;36m(CoordIOUserWarning)\u001b[0m\n"
     ]
    }
   ],
   "source": [
    "from mugatu.comm_designs import ObsTime\n",
    "from astropy.time import Time\n",
    "\n",
    "# ra center of the field\n",
    "racen = 100.\n",
    "#dec center of the field\n",
    "deccen = 45.\n",
    "# position angle of the field\n",
    "position_angle = 24.\n",
    "# observatory of observation\n",
    "observatory = 'APO'\n",
    "# Julian Date of the observation\n",
    "# if exact date is not know, we can use ObsTime to estimate\n",
    "# the best viewing time for a given LST\n",
    "obsTime = Time(ObsTime().nominal(lst=racen)).jd\n",
    "# number of apogee skies desired in the design\n",
    "n_sky_apogee = 150\n",
    "# number of boss skies desired in the design\n",
    "n_sky_boss = 350\n",
    "# the name of the cadence for the design\n",
    "cadence = 'bright_single-1'\n",
    "\n",
    "des, fps_design = all_sky_design_RS(racen=racen,\n",
    "                                    deccen=deccen,\n",
    "                                    position_angle=position_angle,\n",
    "                                    observatory=observatory,\n",
    "                                    obsTime=obsTime,\n",
    "                                    n_sky_apogee=n_sky_apogee,\n",
    "                                    n_sky_boss=n_sky_boss,\n",
    "                                    cadence=cadence)"
   ]
  },
  {
   "cell_type": "markdown",
   "metadata": {},
   "source": [
    "The above function returns a Robostrategy Field object and a Mugatu FPSDesign object (with the Robostrategy assignments). To assess if Robostrategy was able to achieve the desired number of skies requested we can check by:"
   ]
  },
  {
   "cell_type": "code",
   "execution_count": 4,
   "metadata": {},
   "outputs": [
    {
     "name": "stdout",
     "output_type": "stream",
     "text": [
      "Field cadence: bright_single-1\n",
      "\n",
      "Calibration targets:\n",
      " sky_boss (want 350): 304\n",
      " standard_boss (want 80): 0\n",
      " sky_apogee (want 150): 150\n",
      " standard_apogee (want 20): 0\n",
      "\n",
      "Science targets:\n",
      " BOSS targets assigned: 0\n",
      " APOGEE targets assigned: 0\n",
      " Targets per epoch: 0\n",
      "\n",
      "Carton completion:\n",
      "\n",
      "\n"
     ]
    }
   ],
   "source": [
    "print(des.assess())"
   ]
  },
  {
   "cell_type": "markdown",
   "metadata": {},
   "source": [
    "If we want to re-validate the design with Mugatu, we can run the following:"
   ]
  },
  {
   "cell_type": "code",
   "execution_count": 5,
   "metadata": {},
   "outputs": [
    {
     "name": "stderr",
     "output_type": "stream",
     "text": [
      "\u001b[1;33m[WARNING]: \u001b[0m\u001b[0;39mSome targets could not be assigned to fiber\u001b[0m \u001b[0;36m(MugatuWarning)\u001b[0m\n",
      "\u001b[1;33m[WARNING]: \u001b[0m\u001b[0;39mSome targets removed from design due to collisions\u001b[0m \u001b[0;36m(MugatuWarning)\u001b[0m\n"
     ]
    }
   ],
   "source": [
    "fps_design.validate_design()"
   ]
  },
  {
   "cell_type": "markdown",
   "metadata": {},
   "source": [
    "As we can see from the warnings, some of the targets were not able to be assigned to a robot in Mugatu. To check which catalogids were not able to be assigned (either due to the target not being in range of a robot or due to collisions), you can run:"
   ]
  },
  {
   "cell_type": "code",
   "execution_count": 6,
   "metadata": {},
   "outputs": [
    {
     "name": "stdout",
     "output_type": "stream",
     "text": [
      "[7610556048, 7610553593, 7610553403, 7610553382, 7610556071, 7610552781, 7610556448, 7610554104, 7610556542, 7610553810, 7610554249, 7610554060, 7610560325, 7610554565, 7610554560, 7610554669, 7610553321, 7610553310, 7610553066, 7610553394, 7610553345, 7610552672, 7610553644, 7610553598, 7610553609, 7610553468, 7610552735, 7610553946, 7610554162, 7610553745, 7610553951, 7610553962, 7610554892, 7610554021, 7610554087, 7610554850, 7610560045, 7610554771, 7610554529, 7610554744, 7610554461, 7610554490, 7610554497, 7610554271, 7610554402]\n"
     ]
    },
    {
     "data": {
      "text/plain": [
       "(None, 45)"
      ]
     },
     "execution_count": 6,
     "metadata": {},
     "output_type": "execute_result"
    }
   ],
   "source": [
    "print(fps_design.targets_unassigned), len(fps_design.targets_unassigned)"
   ]
  },
  {
   "cell_type": "code",
   "execution_count": 7,
   "metadata": {},
   "outputs": [
    {
     "name": "stdout",
     "output_type": "stream",
     "text": [
      "[7610556400, 7610553791, 7610553508, 7610554141, 7610554185, 7610558032, 7610554624, 7610554396, 7610556618, 7610561085, 7610560329, 7610555584, 7610555700]\n"
     ]
    },
    {
     "data": {
      "text/plain": [
       "(None, 13)"
      ]
     },
     "execution_count": 7,
     "metadata": {},
     "output_type": "execute_result"
    }
   ],
   "source": [
    "print(fps_design.targets_collided), len(fps_design.targets_collided)"
   ]
  },
  {
   "cell_type": "markdown",
   "metadata": {},
   "source": [
    "These types of discrepencies between validations are simply due to how robostrategy coverts (ra,dec) to FPS (x,y) compared to Mugatu. To check this, we can adjust the FPSDesign object as we like in order to change the (x,y) positions to the robostrategy calculated ones:"
   ]
  },
  {
   "cell_type": "code",
   "execution_count": 8,
   "metadata": {},
   "outputs": [],
   "source": [
    "import kaiju\n",
    "\n",
    "ev = eval(\"(fps_design.design['x'] != -9999.99)\")\n",
    "\n",
    "fps_design.design['x'][ev], fps_design.design['y'][ev] = des.radec2xy(ra=fps_design.design['ra'][ev],\n",
    "                                                                      dec=fps_design.design['dec'][ev])"
   ]
  },
  {
   "cell_type": "markdown",
   "metadata": {},
   "source": [
    "After resetting the robot grid, we can then re-validate the design with these new (x,y) coordinates:"
   ]
  },
  {
   "cell_type": "code",
   "execution_count": 9,
   "metadata": {},
   "outputs": [],
   "source": [
    "# reset the grid\n",
    "fps_design.rg = kaiju.robotGrid.RobotGridFilledHex()\n",
    "\n",
    "for k in fps_design.rg.robotDict.keys():\n",
    "    fps_design.rg.homeRobot(k)\n",
    "\n",
    "fps_design.targets_unassigned = []\n",
    "fps_design.targets_collided = []"
   ]
  },
  {
   "cell_type": "code",
   "execution_count": 10,
   "metadata": {},
   "outputs": [],
   "source": [
    "# re-validate the design\n",
    "fps_design.validate_design()"
   ]
  },
  {
   "cell_type": "markdown",
   "metadata": {},
   "source": [
    "Now we can check the status of any unassigned robots and see that we find none:"
   ]
  },
  {
   "cell_type": "code",
   "execution_count": 11,
   "metadata": {},
   "outputs": [
    {
     "name": "stdout",
     "output_type": "stream",
     "text": [
      "[]\n"
     ]
    },
    {
     "data": {
      "text/plain": [
       "(None, 0)"
      ]
     },
     "execution_count": 11,
     "metadata": {},
     "output_type": "execute_result"
    }
   ],
   "source": [
    "print(fps_design.targets_unassigned), len(fps_design.targets_unassigned)"
   ]
  },
  {
   "cell_type": "code",
   "execution_count": 12,
   "metadata": {},
   "outputs": [
    {
     "name": "stdout",
     "output_type": "stream",
     "text": [
      "[]\n"
     ]
    },
    {
     "data": {
      "text/plain": [
       "(None, 0)"
      ]
     },
     "execution_count": 12,
     "metadata": {},
     "output_type": "execute_result"
    }
   ],
   "source": [
    "print(fps_design.targets_collided), len(fps_design.targets_collided)"
   ]
  },
  {
   "cell_type": "code",
   "execution_count": null,
   "metadata": {},
   "outputs": [],
   "source": []
  }
 ],
 "metadata": {
  "kernelspec": {
   "display_name": "Python 3",
   "language": "python",
   "name": "python3"
  },
  "language_info": {
   "codemirror_mode": {
    "name": "ipython",
    "version": 3
   },
   "file_extension": ".py",
   "mimetype": "text/x-python",
   "name": "python",
   "nbconvert_exporter": "python",
   "pygments_lexer": "ipython3",
   "version": "3.6.10"
  }
 },
 "nbformat": 4,
 "nbformat_minor": 5
}
