{
 "cells": [
  {
   "cell_type": "markdown",
   "id": "crucial-financing",
   "metadata": {},
   "source": [
    "In this notebook, I will demonstrate how to use existing SDSS software to create a desired commissioning carton and then creat FPS designs from that carton."
   ]
  },
  {
   "cell_type": "markdown",
   "id": "settled-correspondence",
   "metadata": {},
   "source": [
    "# Commissioning Carton Creation"
   ]
  },
  {
   "cell_type": "markdown",
   "id": "historic-packet",
   "metadata": {},
   "source": [
    "If you have a set of targets with known IDs (Gaia, 2MASS, etc), a list of targets for the carton can easily be created from querying catalogdb. For this example though, I will be creating a carton of spectrophotometric standard stars in Gaia eDR3 (https://ui.adsabs.harvard.edu/abs/2021MNRAS.503.3660P/abstract), where the IDs are not currently in catalogdb.\n",
    "\n",
    "First, I will open Table 1 from the above paper with the standard stars:"
   ]
  },
  {
   "cell_type": "code",
   "execution_count": 1,
   "id": "employed-failure",
   "metadata": {},
   "outputs": [
    {
     "data": {
      "text/plain": [
       "True"
      ]
     },
     "execution_count": 1,
     "metadata": {},
     "output_type": "execute_result"
    }
   ],
   "source": [
    "import pandas as pd\n",
    "import numpy as np\n",
    "from sdssdb.peewee.sdss5db import catalogdb\n",
    "\n",
    "# connect to catalogdb\n",
    "catalogdb.database.connect_from_parameters(user='sdss',\n",
    "                                          host='localhost',\n",
    "                                          port=7500)"
   ]
  },
  {
   "cell_type": "code",
   "execution_count": 2,
   "id": "marine-edgar",
   "metadata": {},
   "outputs": [],
   "source": [
    "# load Table 1\n",
    "stands = pd.read_csv('stab766_supplemental_files/Table1.csv')"
   ]
  },
  {
   "cell_type": "code",
   "execution_count": 3,
   "id": "simple-provincial",
   "metadata": {},
   "outputs": [
    {
     "data": {
      "text/html": [
       "<div>\n",
       "<style scoped>\n",
       "    .dataframe tbody tr th:only-of-type {\n",
       "        vertical-align: middle;\n",
       "    }\n",
       "\n",
       "    .dataframe tbody tr th {\n",
       "        vertical-align: top;\n",
       "    }\n",
       "\n",
       "    .dataframe thead th {\n",
       "        text-align: right;\n",
       "    }\n",
       "</style>\n",
       "<table border=\"1\" class=\"dataframe\">\n",
       "  <thead>\n",
       "    <tr style=\"text-align: right;\">\n",
       "      <th></th>\n",
       "      <th>spssId</th>\n",
       "      <th>spssName</th>\n",
       "      <th>gaiaID</th>\n",
       "      <th>RA</th>\n",
       "      <th>Dec</th>\n",
       "      <th>Bmag</th>\n",
       "      <th>Vmag</th>\n",
       "      <th>spType</th>\n",
       "      <th>inV1</th>\n",
       "      <th>inV2</th>\n",
       "      <th>flag</th>\n",
       "      <th>Notes</th>\n",
       "    </tr>\n",
       "  </thead>\n",
       "  <tbody>\n",
       "    <tr>\n",
       "      <th>0</th>\n",
       "      <td>1</td>\n",
       "      <td>G191-B2B</td>\n",
       "      <td>266077145295627520</td>\n",
       "      <td>76.377669</td>\n",
       "      <td>52.830674</td>\n",
       "      <td>11.444</td>\n",
       "      <td>11.792</td>\n",
       "      <td>DA0</td>\n",
       "      <td>yes</td>\n",
       "      <td>yes</td>\n",
       "      <td>0</td>\n",
       "      <td>-</td>\n",
       "    </tr>\n",
       "    <tr>\n",
       "      <th>1</th>\n",
       "      <td>2</td>\n",
       "      <td>GD71</td>\n",
       "      <td>3348071631670500736</td>\n",
       "      <td>88.115437</td>\n",
       "      <td>15.886239</td>\n",
       "      <td>12.792</td>\n",
       "      <td>13.032</td>\n",
       "      <td>DA1</td>\n",
       "      <td>yes</td>\n",
       "      <td>yes</td>\n",
       "      <td>0</td>\n",
       "      <td>-</td>\n",
       "    </tr>\n",
       "    <tr>\n",
       "      <th>2</th>\n",
       "      <td>3</td>\n",
       "      <td>GD153</td>\n",
       "      <td>3944400490365194368</td>\n",
       "      <td>194.259493</td>\n",
       "      <td>22.030385</td>\n",
       "      <td>13.110</td>\n",
       "      <td>13.399</td>\n",
       "      <td>DA1</td>\n",
       "      <td>yes</td>\n",
       "      <td>yes</td>\n",
       "      <td>0</td>\n",
       "      <td>-</td>\n",
       "    </tr>\n",
       "    <tr>\n",
       "      <th>3</th>\n",
       "      <td>5</td>\n",
       "      <td>EG21</td>\n",
       "      <td>4646535078125821568</td>\n",
       "      <td>47.629732</td>\n",
       "      <td>-68.601398</td>\n",
       "      <td>11.403</td>\n",
       "      <td>11.400</td>\n",
       "      <td>DA3</td>\n",
       "      <td>yes</td>\n",
       "      <td>yes</td>\n",
       "      <td>0</td>\n",
       "      <td>-</td>\n",
       "    </tr>\n",
       "    <tr>\n",
       "      <th>4</th>\n",
       "      <td>6</td>\n",
       "      <td>GD50</td>\n",
       "      <td>3251244858154433536</td>\n",
       "      <td>57.209484</td>\n",
       "      <td>-0.976360</td>\n",
       "      <td>13.789</td>\n",
       "      <td>14.070</td>\n",
       "      <td>DA2</td>\n",
       "      <td>yes</td>\n",
       "      <td>yes</td>\n",
       "      <td>0</td>\n",
       "      <td>-</td>\n",
       "    </tr>\n",
       "    <tr>\n",
       "      <th>...</th>\n",
       "      <td>...</td>\n",
       "      <td>...</td>\n",
       "      <td>...</td>\n",
       "      <td>...</td>\n",
       "      <td>...</td>\n",
       "      <td>...</td>\n",
       "      <td>...</td>\n",
       "      <td>...</td>\n",
       "      <td>...</td>\n",
       "      <td>...</td>\n",
       "      <td>...</td>\n",
       "      <td>...</td>\n",
       "    </tr>\n",
       "    <tr>\n",
       "      <th>114</th>\n",
       "      <td>347</td>\n",
       "      <td>HD271759</td>\n",
       "      <td>5476400477145058816</td>\n",
       "      <td>90.172277</td>\n",
       "      <td>-66.053705</td>\n",
       "      <td>11.093</td>\n",
       "      <td>10.873</td>\n",
       "      <td>A2</td>\n",
       "      <td>yes</td>\n",
       "      <td>yes</td>\n",
       "      <td>2</td>\n",
       "      <td>Warning spectral defects (&gt;3%)</td>\n",
       "    </tr>\n",
       "    <tr>\n",
       "      <th>115</th>\n",
       "      <td>348</td>\n",
       "      <td>HD271783</td>\n",
       "      <td>5284204302730217984</td>\n",
       "      <td>90.547608</td>\n",
       "      <td>-66.583021</td>\n",
       "      <td>12.539</td>\n",
       "      <td>11.955</td>\n",
       "      <td>F5</td>\n",
       "      <td>yes</td>\n",
       "      <td>yes</td>\n",
       "      <td>2</td>\n",
       "      <td>Warning spectral defects (&gt;3%)</td>\n",
       "    </tr>\n",
       "    <tr>\n",
       "      <th>116</th>\n",
       "      <td>349</td>\n",
       "      <td>HIP28618</td>\n",
       "      <td>5284151216932205312</td>\n",
       "      <td>90.616156</td>\n",
       "      <td>-66.791283</td>\n",
       "      <td>12.143</td>\n",
       "      <td>12.282</td>\n",
       "      <td>B8</td>\n",
       "      <td>yes</td>\n",
       "      <td>no</td>\n",
       "      <td>-1</td>\n",
       "      <td>Non photometric - spectral defects</td>\n",
       "    </tr>\n",
       "    <tr>\n",
       "      <th>117</th>\n",
       "      <td>350</td>\n",
       "      <td>LTT377</td>\n",
       "      <td>5006921282807193856</td>\n",
       "      <td>10.375121</td>\n",
       "      <td>-33.626680</td>\n",
       "      <td>11.970</td>\n",
       "      <td>10.530</td>\n",
       "      <td>K9</td>\n",
       "      <td>yes</td>\n",
       "      <td>yes</td>\n",
       "      <td>1</td>\n",
       "      <td>Warning minor spectral defects (&lt;3%)</td>\n",
       "    </tr>\n",
       "    <tr>\n",
       "      <th>118</th>\n",
       "      <td>352</td>\n",
       "      <td>LP885-23</td>\n",
       "      <td>5020116556211470848</td>\n",
       "      <td>31.777722</td>\n",
       "      <td>-30.407014</td>\n",
       "      <td>15.721</td>\n",
       "      <td>14.150</td>\n",
       "      <td>M0</td>\n",
       "      <td>no</td>\n",
       "      <td>yes</td>\n",
       "      <td>1</td>\n",
       "      <td>Warning minor spectral defects (&lt;3%)</td>\n",
       "    </tr>\n",
       "  </tbody>\n",
       "</table>\n",
       "<p>119 rows × 12 columns</p>\n",
       "</div>"
      ],
      "text/plain": [
       "     spssId  spssName               gaiaID          RA        Dec    Bmag  \\\n",
       "0         1  G191-B2B   266077145295627520   76.377669  52.830674  11.444   \n",
       "1         2      GD71  3348071631670500736   88.115437  15.886239  12.792   \n",
       "2         3     GD153  3944400490365194368  194.259493  22.030385  13.110   \n",
       "3         5      EG21  4646535078125821568   47.629732 -68.601398  11.403   \n",
       "4         6      GD50  3251244858154433536   57.209484  -0.976360  13.789   \n",
       "..      ...       ...                  ...         ...        ...     ...   \n",
       "114     347  HD271759  5476400477145058816   90.172277 -66.053705  11.093   \n",
       "115     348  HD271783  5284204302730217984   90.547608 -66.583021  12.539   \n",
       "116     349  HIP28618  5284151216932205312   90.616156 -66.791283  12.143   \n",
       "117     350    LTT377  5006921282807193856   10.375121 -33.626680  11.970   \n",
       "118     352  LP885-23  5020116556211470848   31.777722 -30.407014  15.721   \n",
       "\n",
       "       Vmag spType inV1 inV2  flag                                 Notes  \n",
       "0    11.792    DA0  yes  yes     0                                     -  \n",
       "1    13.032    DA1  yes  yes     0                                     -  \n",
       "2    13.399    DA1  yes  yes     0                                     -  \n",
       "3    11.400    DA3  yes  yes     0                                     -  \n",
       "4    14.070    DA2  yes  yes     0                                     -  \n",
       "..      ...    ...  ...  ...   ...                                   ...  \n",
       "114  10.873     A2  yes  yes     2        Warning spectral defects (>3%)  \n",
       "115  11.955     F5  yes  yes     2        Warning spectral defects (>3%)  \n",
       "116  12.282     B8  yes   no    -1    Non photometric - spectral defects  \n",
       "117  10.530     K9  yes  yes     1  Warning minor spectral defects (<3%)  \n",
       "118  14.150     M0   no  yes     1  Warning minor spectral defects (<3%)  \n",
       "\n",
       "[119 rows x 12 columns]"
      ]
     },
     "execution_count": 3,
     "metadata": {},
     "output_type": "execute_result"
    }
   ],
   "source": [
    "stands"
   ]
  },
  {
   "cell_type": "markdown",
   "id": "sorted-installation",
   "metadata": {},
   "source": [
    "Next, I will do a cone search in catalogdb to match the DR2 objects to eDR3. For example, I will just assume the best match is the one with the smallest angular separation."
   ]
  },
  {
   "cell_type": "code",
   "execution_count": 4,
   "id": "greater-attachment",
   "metadata": {},
   "outputs": [],
   "source": [
    "#create column for DR2 IDs\n",
    "stands['gaiaID_DR2'] = 9999\n",
    "\n",
    "# radius used for cone search\n",
    "r = 3/3600\n",
    "for i in range(len(stands)):\n",
    "    # query catalogdb around ith standard\n",
    "    stand_dr2 = (catalogdb.Gaia_DR2.select(catalogdb.Gaia_DR2.ra,\n",
    "                                           catalogdb.Gaia_DR2.dec,\n",
    "                                           catalogdb.Gaia_DR2.source_id)\n",
    "                                    .where(catalogdb.Gaia_DR2.cone_search(stands.loc[i, 'RA'],\n",
    "                                                                          stands.loc[i, 'Dec'],\n",
    "                                                                          r)))\n",
    "    # get the ras, decs and DR2 IDs for the query\n",
    "    ras, decs, dr2_ids = map(list, zip(*list(stand_dr2.tuples())))\n",
    "    ras = np.array(ras)\n",
    "    decs = np.array(decs)\n",
    "    # calculate seperations\n",
    "    seps = np.sqrt((3600 * (ras - stands.loc[i, 'RA']) * np.cos(stands.loc[i, 'Dec'] / 57.296)) ** 2 +\n",
    "                   (3600 * (decs - stands.loc[i, 'Dec'])) ** 2)\n",
    "    # set best match as DR2 object with minimum seperation\n",
    "    stands.loc[i, 'gaiaID_DR2'] = dr2_ids[np.argmin(seps)]"
   ]
  },
  {
   "cell_type": "markdown",
   "id": "infectious-playback",
   "metadata": {},
   "source": [
    "Now, similar to our most common example, we have a list of known IDs that we can use to pull the relevtant information to form our carton. At this point, we will need the catalogids, RAs and DECs of the object in catalogdb. \n",
    "\n",
    "It will be important here to specify the version of catalogdb we will be using. You can see the catalogdb versions by:"
   ]
  },
  {
   "cell_type": "code",
   "execution_count": 5,
   "id": "ranging-badge",
   "metadata": {},
   "outputs": [
    {
     "name": "stdout",
     "output_type": "stream",
     "text": [
      "21 0.1.0 0.1.0\n",
      "3 0.1.0-alpha.1 0.1.0-alpha.1\n",
      "16 0.1.0-alpha.5 0.1.0-beta.2\n",
      "17 0.1.0-alpha.6 0.1.0-beta.3\n",
      "23 0.5.0-beta.1 0.2.0b0\n",
      "24 0.5.0-beta.2 0.2.0b1\n",
      "999 test test\n",
      "9 0.1.0-alpha.2 0.1.0-alpha.2\n",
      "10 0.1.0-alpha.3 0.1.0-alpha.3\n",
      "18 0.1.0-alpha.7 0.1.0-beta.3\n",
      "11 0.1.0-alpha.4 0.1.0-alpha.4\n",
      "25 0.5.0 0.2.2\n",
      "13 0.1.0-beta.1 0.1.0b3\n"
     ]
    }
   ],
   "source": [
    "ver = catalogdb.Version.select()\n",
    "\n",
    "for v in ver:\n",
    "    print(v.id, v.plan, v.tag)"
   ]
  },
  {
   "cell_type": "markdown",
   "id": "manufactured-packing",
   "metadata": {},
   "source": [
    "For this, we will be using the most up-to-date of catalogdb version 0.5.0:"
   ]
  },
  {
   "cell_type": "code",
   "execution_count": 6,
   "id": "revolutionary-angle",
   "metadata": {},
   "outputs": [],
   "source": [
    "# query catalogdb for Gaia DR2 objects in our list of standards in catalogdb version 0.5.0\n",
    "stands_cdb = (catalogdb.Gaia_DR2.select(catalogdb.Gaia_DR2.ra,\n",
    "                                        catalogdb.Gaia_DR2.dec,\n",
    "                                        catalogdb.Gaia_DR2.source_id,\n",
    "                                        catalogdb.Catalog.catalogid)\n",
    "                                .join(catalogdb.TIC_v8)\n",
    "                                .join(catalogdb.CatalogToTIC_v8)\n",
    "                                .join(catalogdb.Catalog)\n",
    "                                .join(catalogdb.Version)\n",
    "                                .where((catalogdb.Gaia_DR2.source_id.in_(stands['gaiaID_DR2'].tolist())) &\n",
    "                                       (catalogdb.Version.id == 25)))\n",
    "\n",
    "# get result\n",
    "ras, decs, dr2_ids, catalogids = map(list, zip(*list(stands_cdb.tuples())))"
   ]
  },
  {
   "cell_type": "markdown",
   "id": "healthy-indianapolis",
   "metadata": {},
   "source": [
    "Now we can create a .fits file that will serve as our carton. This .fits file can be used by the target selection code to add this commissioning carton to targetdb. The .fits will need to have the following columns, where you just need to change the array input to what will be used for this specific carton."
   ]
  },
  {
   "cell_type": "code",
   "execution_count": 7,
   "id": "adjusted-cylinder",
   "metadata": {},
   "outputs": [],
   "source": [
    "from astropy.io import fits\n",
    "\n",
    "# number of rows in table for creating new blank columns\n",
    "nrows = len(catalogids)\n",
    "\n",
    "# create all columns\n",
    "\n",
    "# add the ids for the targets in the carton\n",
    "col1 = fits.Column(name='id',\n",
    "                   format='K',\n",
    "                   array=catalogids)\n",
    "\n",
    "# specify the id types (i.e. catalogid, Gaia ID, 2MASS id, etc)\n",
    "col2 = fits.Column(name='id_type',\n",
    "                   format='20A',\n",
    "                   array=['catalogid'] * nrows)\n",
    "\n",
    "# right ascension of the targets\n",
    "col3 = fits.Column(name='ra',\n",
    "                   format='D',\n",
    "                   array=ras)\n",
    "\n",
    "# declination of the targets\n",
    "col4 = fits.Column(name='dec',\n",
    "                   format='D',\n",
    "                   array=decs)\n",
    "\n",
    "# specify if fiber should be offset from target position (in arcseconds)\n",
    "col5 = fits.Column(name='delta_ra',\n",
    "                   format='D',\n",
    "                   array=[0.] * nrows)\n",
    "\n",
    "# specify if fiber should be offset from target position (in arcseconds)\n",
    "col6 = fits.Column(name='delta_dec',\n",
    "                   format='D',\n",
    "                   array=[0.] * nrows)\n",
    "\n",
    "# specify the priority of each target\n",
    "col7 = fits.Column(name='priority',\n",
    "                   format='J',\n",
    "                   array=[1] * nrows)\n",
    "\n",
    "# specify the value for each target\n",
    "col8 = fits.Column(name='value',\n",
    "                   format='J',\n",
    "                   array=[1] * nrows)\n",
    "\n",
    "# add the cadence for the observation, from list of cadences: https://wiki.sdss.org/display/OPS/Cadence+Alignment\n",
    "col9 = fits.Column(name='cadence',\n",
    "                   format='20A',\n",
    "                   array=['bright_1x1'] * nrows)\n",
    "\n",
    "# add the effective wavelength for observation. Defaults are 16000A for APOGEE and 5500A for BOSS\n",
    "col10 = fits.Column(name='lambda_eff',\n",
    "                    format='D',\n",
    "                    array=[5500] * nrows)\n",
    "\n",
    "# create column definitions for all columns\n",
    "cols = fits.ColDefs([col1, col2, col3, col4, col5, col6, col7, col8, col9, col10])\n",
    "\n",
    "# create the table HDU\n",
    "hdu = fits.BinTableHDU.from_columns(cols)\n",
    "\n",
    "# write table to .fits file\n",
    "hdu.writeto('spectrophoto_standards_carton_example.fits')"
   ]
  },
  {
   "cell_type": "markdown",
   "id": "diverse-multiple",
   "metadata": {},
   "source": [
    "# Creating Commissioning Designs"
   ]
  },
  {
   "cell_type": "markdown",
   "id": "metric-inquiry",
   "metadata": {},
   "source": [
    "Once you have created a commissioning carton (that has then gone through target selection), you can then create a commissioning design. For this example, I will demonstrate how to create a design for a carton that is already in targetdb, specifically an all-sky design. First, we have to select all skies near some field center in targetdb."
   ]
  },
  {
   "cell_type": "code",
   "execution_count": 8,
   "id": "historical-joint",
   "metadata": {},
   "outputs": [
    {
     "data": {
      "text/plain": [
       "True"
      ]
     },
     "execution_count": 8,
     "metadata": {},
     "output_type": "execute_result"
    }
   ],
   "source": [
    "from sdssdb.peewee.sdss5db import targetdb\n",
    "\n",
    "# connect to targetdb\n",
    "targetdb.database.connect_from_parameters(user='sdss',\n",
    "                                          host='localhost',\n",
    "                                          port=7500)"
   ]
  },
  {
   "cell_type": "code",
   "execution_count": 9,
   "id": "valued-glenn",
   "metadata": {},
   "outputs": [],
   "source": [
    "from peewee import *\n",
    "\n",
    "# set search radius based on field size for APO or LCO\n",
    "observatory = 'APO'\n",
    "if observatory == 'APO':\n",
    "    r_search = 1.49\n",
    "else:\n",
    "    r_serach = 0.95\n",
    "\n",
    "# specify the field center and position angle\n",
    "racen = 20.\n",
    "deccen = 20.\n",
    "position_angle=24.188576\n",
    "\n",
    "# specify the commissioning carton\n",
    "carton = 'ops_sky_boss'\n",
    "\n",
    "# get all of the targets in the commissioning carton near the field center\n",
    "boss_sky = (targetdb.Target.select(targetdb.Target.catalogid,\n",
    "                                   targetdb.Target.ra,\n",
    "                                   targetdb.Target.dec,\n",
    "                                   targetdb.Target.pk,\n",
    "                                   targetdb.CartonToTarget.priority,\n",
    "                                   targetdb.CartonToTarget.value,\n",
    "                                   targetdb.Cadence.label)\n",
    "                    .join(targetdb.CartonToTarget)\n",
    "                    .join(targetdb.Cadence, JOIN.LEFT_OUTER)\n",
    "                    .switch(targetdb.CartonToTarget)\n",
    "                    .join(targetdb.Carton)\n",
    "                    .where((targetdb.Carton.carton == carton) & \n",
    "                           (targetdb.Target.cone_search(racen, deccen, r_search))))\n",
    "\n",
    "# grab the results\n",
    "catalogid, ra, dec, target_pk, priority, value, cadences = map(list, zip(*list(boss_sky.tuples())))\n",
    "catalogid = np.array(catalogid, dtype=np.int64)\n",
    "ra = np.array(ra)\n",
    "dec = np.array(dec)\n",
    "target_pk = np.array(target_pk, dtype=np.int64)\n",
    "priority = np.array(priority)\n",
    "value = np.array(value)"
   ]
  },
  {
   "cell_type": "markdown",
   "id": "robust-harvey",
   "metadata": {},
   "source": [
    "Next, we will want to create the design using using Robostrategy. To do this, we first need to estimate the x,y coordinates of the targets in the FBS plane use coordio. To do this, we will need to also specify the observation time of the design in Julian Days."
   ]
  },
  {
   "cell_type": "code",
   "execution_count": 10,
   "id": "perceived-johnson",
   "metadata": {},
   "outputs": [],
   "source": [
    "from coordio.utils import radec2wokxy\n",
    "\n",
    "# specify observation time\n",
    "obsTime = 2459145.5\n",
    "\n",
    "# convert to x,y\n",
    "x, y, fieldWarn, HA, PA_coordio = radec2wokxy(ra=ra,\n",
    "                                              dec=dec,\n",
    "                                              coordEpoch=np.array([2457174] * len(ra)),\n",
    "                                              waveName=np.array(list(map(lambda x:x.title(), ['BOSS'] * len(ra)))),\n",
    "                                              raCen=racen,\n",
    "                                              decCen=deccen,\n",
    "                                              obsAngle=position_angle,\n",
    "                                              obsSite=observatory,\n",
    "                                              obsTime=obsTime)"
   ]
  },
  {
   "cell_type": "markdown",
   "id": "absent-weekly",
   "metadata": {},
   "source": [
    "Now we can finally build the design. This requires that we create a specially formatted array for Robostrategy to build the design. This is demonstrated below."
   ]
  },
  {
   "cell_type": "code",
   "execution_count": 11,
   "id": "cross-buffer",
   "metadata": {},
   "outputs": [],
   "source": [
    "import robostrategy.field as field\n",
    "import roboscheduler.cadence as cadence\n",
    "\n",
    "# need to load cadences before building designs\n",
    "cadence.CadenceList().fromdb()\n",
    "\n",
    "# set cadence. must be in list of loaded cadences\n",
    "# set cadence here because NONEs currently for sky carton\n",
    "cadence = 'bright_1x1'\n",
    "\n",
    "# create the field object\n",
    "f = field.Field(racen=racen, deccen=deccen, pa=position_angle,\n",
    "                    field_cadence=cadence, observatory=observatory.lower())\n",
    "\n",
    "# set the required skies, in this case all fibers\n",
    "f.required_calibrations['sky_boss'] = 500\n",
    "f.required_calibrations['sky_apogee'] = 0\n",
    "f.required_calibrations['standard_boss'] = 0\n",
    "f.required_calibrations['standard_apogee'] = 0\n",
    "\n",
    "# create array for RS field\n",
    "N = len(ra)\n",
    "# these are datatypes from robostrategy.Field\n",
    "targets_dtype = np.dtype([('ra', np.float64),\n",
    "                          ('dec', np.float64),\n",
    "                          ('x', np.float64),\n",
    "                          ('y', np.float64),\n",
    "                          ('within', np.int32),\n",
    "                          ('incadence', np.int32),\n",
    "                          ('priority', np.int32),\n",
    "                          ('value', np.float32),\n",
    "                          ('program', np.unicode_, 30),\n",
    "                          ('carton', np.unicode_, 30),\n",
    "                          ('category', np.unicode_, 30),\n",
    "                          ('cadence', np.unicode_, 30),\n",
    "                          ('fiberType', np.unicode_, 10),\n",
    "                          ('catalogid', np.int64),\n",
    "                          ('rsid', np.int64),\n",
    "                          ('target_pk', np.int64)])\n",
    "\n",
    "# create an empty array\n",
    "targs = np.zeros(N, dtype=targets_dtype)\n",
    "\n",
    "# fill in the relevant columns\n",
    "targs['ra'] = ra\n",
    "targs['dec'] = dec\n",
    "targs['x'] = x\n",
    "targs['y'] = y\n",
    "targs['within'] = np.zeros(N, dtype=np.int32) + 1\n",
    "targs['incadence'] = np.zeros(N, dtype=np.int32) + 1\n",
    "targs['priority'] = priority\n",
    "targs['value'] = value\n",
    "# for program and carton, these are both 'CALIBRATION' for all calibration targets (i.e. sky or standard)\n",
    "# for science targets, program would be bhm/mwm and carton is the carton label\n",
    "# don't know how to handle this for commisioning cartons yet\n",
    "targs['program'] = np.array(['CALIBRATION'] * N, dtype='<U30')\n",
    "targs['carton'] = np.array(['CALIBRATION'] * N, dtype='<U30')\n",
    "# set category. Can either be: 'sky_apogee', 'sky_boss', 'standard_apogee', 'standard_boss' or 'science'\n",
    "targs['category'] = np.array(['sky_boss'] * N, dtype='<U30')\n",
    "targs['cadence'] = np.array([cadence] * N, dtype='<U30')\n",
    "targs['fiberType'] = np.array(['BOSS'] * N, dtype='<U10')\n",
    "targs['catalogid'] = catalogid\n",
    "targs['rsid'] = np.arange(N, dtype=np.int64) + 1\n",
    "targs['target_pk'] = target_pk\n",
    "\n",
    "# assign targets\n",
    "f.targets_fromarray(targs)\n",
    "\n",
    "f.assign()"
   ]
  },
  {
   "cell_type": "markdown",
   "id": "continuing-hearts",
   "metadata": {},
   "source": [
    "You can print out the results of the assigments for the design to see how close Robostrategy got to the desired design."
   ]
  },
  {
   "cell_type": "code",
   "execution_count": 12,
   "id": "public-marking",
   "metadata": {},
   "outputs": [
    {
     "name": "stdout",
     "output_type": "stream",
     "text": [
      "Field cadence: bright_1x1\n",
      "\n",
      "Calibration targets:\n",
      " sky_boss (want 500): 386\n",
      " standard_boss (want 0): 0\n",
      " sky_apogee (want 0): 0\n",
      " standard_apogee (want 0): 0\n",
      "\n",
      "Science targets:\n",
      " BOSS targets assigned: 0\n",
      " APOGEE targets assigned: 0\n",
      " Targets per epoch: 0\n",
      "\n",
      "Carton completion:\n",
      "\n",
      "\n"
     ]
    }
   ],
   "source": [
    "print(f.assess())"
   ]
  },
  {
   "cell_type": "markdown",
   "id": "hindu-theology",
   "metadata": {},
   "source": [
    "# Adding Commissioning Design to targetdb"
   ]
  },
  {
   "cell_type": "markdown",
   "id": "subjective-front",
   "metadata": {},
   "source": [
    "Finally, if you have created a design to your liking, you can add the design to targetdb using Mugatu. To do this, we will use the results of the above design to create a mugatu.FPSDesign object:"
   ]
  },
  {
   "cell_type": "code",
   "execution_count": 13,
   "id": "other-system",
   "metadata": {},
   "outputs": [],
   "source": [
    "from mugatu.fpsdesign import FPSDesign\n",
    "\n",
    "# create empty arrays for input\n",
    "catalogids = np.zeros(500, dtype=np.int64) - 1\n",
    "ra = np.zeros(500, dtype=float) - 9999.99\n",
    "dec = np.zeros(500, dtype=float) - 9999.99\n",
    "fiberID = np.zeros(500, dtype=np.int64) - 1\n",
    "obsWavelength = np.zeros(500, dtype='<U10')\n",
    "priority = np.zeros(500, dtype=int) - 1\n",
    "\n",
    "# add assignments to the empty arrays\n",
    "for i in range(len(f.targets)):\n",
    "    if f.assignments[i][2][0] != -1:\n",
    "        rid = f.assignments[i][2][0]\n",
    "        catalogids[rid] = f.targets[i]['catalogid']\n",
    "        ra[rid] = f.targets[i]['ra']\n",
    "        dec[rid] = f.targets[i]['dec']\n",
    "        fiberID[rid] = rid\n",
    "        obsWavelength[rid] = f.targets[i]['fiberType']\n",
    "        priority[rid] = f.targets[i]['priority']\n",
    "\n",
    "# create a mugatu.FPSDesign object that is specified as a manual design\n",
    "fps_design = FPSDesign(design_pk=-1,\n",
    "                       obsTime=obsTime,\n",
    "                       racen=racen,\n",
    "                       deccen=deccen,\n",
    "                       position_angle=position_angle,\n",
    "                       observatory=observatory,\n",
    "                       mode_pk=None,\n",
    "                       catalogids=catalogids,\n",
    "                       ra=ra,\n",
    "                       dec=dec,\n",
    "                       fiberID=fiberID,\n",
    "                       obsWavelength=obsWavelength,\n",
    "                       priority=priority,\n",
    "                       design_file=None,\n",
    "                       manual_design=True)"
   ]
  },
  {
   "cell_type": "markdown",
   "id": "diagnostic-memphis",
   "metadata": {},
   "source": [
    "Before adding the design to targetdb, we will want to validate the design one more time to ensure that there are no collisions that Robostratgegy missed:"
   ]
  },
  {
   "cell_type": "code",
   "execution_count": 14,
   "id": "virtual-indonesian",
   "metadata": {},
   "outputs": [
    {
     "name": "stderr",
     "output_type": "stream",
     "text": [
      "\u001b[1;33m[WARNING]: \u001b[0m\u001b[0;39mSome targets could not be assigned to fiber\u001b[0m \u001b[0;36m(MugatuWarning)\u001b[0m\n",
      "\u001b[1;33m[WARNING]: \u001b[0m\u001b[0;39mSome targets removed from design due to collisions\u001b[0m \u001b[0;36m(MugatuWarning)\u001b[0m\n"
     ]
    }
   ],
   "source": [
    "fps_design.validate_design()"
   ]
  },
  {
   "cell_type": "markdown",
   "id": "senior-malta",
   "metadata": {},
   "source": [
    "Some fibers were not able to be assigned due to fibers not being able to reach targets and due to collisions. At the creating of this notebook (4/21/2021), this is due to Robostrategy not using coordio to estimate x,y coordinates during assignemnt, while mugatu does. This will be fixed in a future release of robostratgegy, which will mitigate this issue and all designs at this point from robostrategy should be completely valid.\n",
    "\n",
    "Finally, we can add the design to targetdb using the function below. As a note, if the field you are using is not already in targetdb, make sure that the fieldid is unique. For this example, this field has been used as other tests so a warning will come up letting you know the field is already in targetdb (and thus a new entry was not created for this field)."
   ]
  },
  {
   "cell_type": "code",
   "execution_count": 15,
   "id": "hollywood-wrapping",
   "metadata": {},
   "outputs": [
    {
     "name": "stderr",
     "output_type": "stream",
     "text": [
      "\u001b[1;33m[WARNING]: \u001b[0m\u001b[0;39mField already exists in targetdb\u001b[0m \u001b[0;36m(MugatuWarning)\u001b[0m\n"
     ]
    }
   ],
   "source": [
    "fps_design.design_to_targetdb(cadence=cadence,\n",
    "                              fieldid=1,\n",
    "                              targetdb_ver=49,\n",
    "                              exposure=0,\n",
    "                              carton=carton)"
   ]
  },
  {
   "cell_type": "code",
   "execution_count": null,
   "id": "respected-square",
   "metadata": {},
   "outputs": [],
   "source": []
  }
 ],
 "metadata": {
  "kernelspec": {
   "display_name": "Python 3",
   "language": "python",
   "name": "python3"
  },
  "language_info": {
   "codemirror_mode": {
    "name": "ipython",
    "version": 3
   },
   "file_extension": ".py",
   "mimetype": "text/x-python",
   "name": "python",
   "nbconvert_exporter": "python",
   "pygments_lexer": "ipython3",
   "version": "3.7.9"
  }
 },
 "nbformat": 4,
 "nbformat_minor": 5
}
